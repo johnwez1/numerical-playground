{
 "cells": [
  {
   "cell_type": "code",
   "execution_count": 14,
   "id": "22e42b81-abc8-49e4-9e78-2e942bf15793",
   "metadata": {},
   "outputs": [],
   "source": [
    "import numpy as np\n",
    "from IPython.display import Image\n",
    "from sklearn.datasets import load_breast_cancer"
   ]
  },
  {
   "cell_type": "code",
   "execution_count": 15,
   "id": "4dc089f0-f379-40a1-85e4-37f36f40c20c",
   "metadata": {},
   "outputs": [],
   "source": [
    "breast_cancer = load_breast_cancer()\n",
    "\n",
    "x = np.array([1, 2, 3, 4, 5, 6, 7])\n",
    "y = np.array([1, 2, 1, 1, 5, 6, 7])"
   ]
  },
  {
   "cell_type": "code",
   "execution_count": 47,
   "id": "3adbed24-bf43-45ec-aa1d-073c192d98d5",
   "metadata": {},
   "outputs": [],
   "source": [
    "def relu(np_array):\n",
    "    return np.maximum(np_array, 0)\n",
    "\n",
    "def softmax(np_array):\n",
    "    return np.exp(np_array) / np.sum(np.exp(np_array))\n",
    "\n",
    "def mse_loss(y_pred, y):\n",
    "    sum((y_pred - y)**2)/(len(x))\n",
    "\n",
    "first_layer_w = [\n",
    "               np.random.rand(30), #weights\n",
    "               np.random.rand(30),\n",
    "               np.random.rand(30),\n",
    "               np.random.rand(30),\n",
    "               np.random.rand(30),\n",
    "               np.random.rand(30),\n",
    "               np.random.rand(30),\n",
    "               np.random.rand(30)\n",
    "              ]\n",
    "\n",
    "second_layer_w = [\n",
    "                np.random.rand(8),\n",
    "                np.random.rand(8),\n",
    "                np.random.rand(8),\n",
    "                np.random.rand(8),\n",
    "                np.random.rand(8),\n",
    "                np.random.rand(8),\n",
    "                np.random.rand(8),\n",
    "                np.random.rand(8)\n",
    "               ]\n",
    "\n",
    "output_w = np.random.rand(8)\n",
    "\n",
    "#record keeping will be used for back propogation\n",
    "first_layer_output = np.zeros(8)\n",
    "second_layer_output = np.zeros(8)\n",
    "\n",
    "def forward_propogation(input_vector):\n",
    "    \n",
    "    for i, node in enumerate(first_layer_w):\n",
    "        first_layer_output[i] = relu(np.sum(node * input_vector))\n",
    "\n",
    "    for i, node in enumerate(second_layer_w):\n",
    "        second_layer_output[i] = relu(np.sum(node * first_layer_output))\n",
    "\n",
    "    x = np.sum(output_w * second_layer_output)\n",
    "    return softmax(np.sum(output * second_layer_output))"
   ]
  },
  {
   "cell_type": "code",
   "execution_count": 21,
   "id": "d4d2b157-7e08-4e4d-a9da-498004ede3ad",
   "metadata": {},
   "outputs": [
    {
     "data": {
      "text/html": [
       "<img src=\"https://wikimedia.org/api/rest_v1/media/math/render/svg/19e12758145196a841af866e8dfa2437d35c82e8\"/>"
      ],
      "text/plain": [
       "<IPython.core.display.Image object>"
      ]
     },
     "execution_count": 21,
     "metadata": {},
     "output_type": "execute_result"
    }
   ],
   "source": [
    "Image(url = \"https://wikimedia.org/api/rest_v1/media/math/render/svg/19e12758145196a841af866e8dfa2437d35c82e8\")"
   ]
  },
  {
   "cell_type": "code",
   "execution_count": 22,
   "id": "f240f1e9-a979-431c-8713-32f06a73d497",
   "metadata": {},
   "outputs": [
    {
     "data": {
      "text/html": [
       "<img src=\"https://wikimedia.org/api/rest_v1/media/math/render/svg/54de826820eed0648c7dba5e345120bb23483261\"/>"
      ],
      "text/plain": [
       "<IPython.core.display.Image object>"
      ]
     },
     "execution_count": 22,
     "metadata": {},
     "output_type": "execute_result"
    }
   ],
   "source": [
    "Image(url = \"https://wikimedia.org/api/rest_v1/media/math/render/svg/54de826820eed0648c7dba5e345120bb23483261\")"
   ]
  },
  {
   "cell_type": "code",
   "execution_count": 23,
   "id": "8e2913db-ecc9-44a2-985f-f089c2ea85ca",
   "metadata": {},
   "outputs": [
    {
     "data": {
      "text/html": [
       "<img src=\"https://wikimedia.org/api/rest_v1/media/math/render/svg/991c8f020800ec1da130849e20a3a415613e9bdb\"/>"
      ],
      "text/plain": [
       "<IPython.core.display.Image object>"
      ]
     },
     "execution_count": 23,
     "metadata": {},
     "output_type": "execute_result"
    }
   ],
   "source": [
    "Image(url = \"https://wikimedia.org/api/rest_v1/media/math/render/svg/991c8f020800ec1da130849e20a3a415613e9bdb\")"
   ]
  },
  {
   "cell_type": "code",
   "execution_count": 7,
   "id": "88373aee-8477-4046-9519-d9d6a05c90e3",
   "metadata": {},
   "outputs": [],
   "source": [
    "#more record keeping, the lowercase delta\n",
    "first_layer_delta_ls = np.zeros(8)\n",
    "second_layer_delta_ls = np.zeros(8)\n",
    "\n",
    "output_delta_l = 0\n",
    "\n",
    "def back_propogation(input_vector, predicted, output):\n",
    "\n",
    "    #now, working backwards we update the weights\n",
    "    output_delta_l = (output - predicted) * output * (1 - output)\n",
    "    for i, weight in enumerate(output_w):\n",
    "        weight += (-1 * learning_rate * second_layer_output[i] * output_delta_l)\n",
    "    \n",
    "    for j, node in enumerate(second_layer_w):\n",
    "        second_layer_delta_l = np.sum( * ) * output * (1 - output)\n",
    "        for i, weight in enumerate(node):\n",
    "            output_delta_l = (output - predicted) * output * (1 - output)\n",
    "            weight += (-1 * learning_rate * first_layer_output[i] * output_delta_l)\n",
    "        \n",
    "        \n",
    "        second_layer_output[i] = relu(np.sum(node * first_layer_output))\n",
    "    "
   ]
  }
 ],
 "metadata": {
  "kernelspec": {
   "display_name": "Python 3 (ipykernel)",
   "language": "python",
   "name": "python3"
  },
  "language_info": {
   "codemirror_mode": {
    "name": "ipython",
    "version": 3
   },
   "file_extension": ".py",
   "mimetype": "text/x-python",
   "name": "python",
   "nbconvert_exporter": "python",
   "pygments_lexer": "ipython3",
   "version": "3.10.8"
  }
 },
 "nbformat": 4,
 "nbformat_minor": 5
}
